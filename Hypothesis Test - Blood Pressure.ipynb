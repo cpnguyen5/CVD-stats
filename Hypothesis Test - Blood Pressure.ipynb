{
 "cells": [
  {
   "cell_type": "markdown",
   "metadata": {},
   "source": [
    "# Hypothesis Testing"
   ]
  },
  {
   "cell_type": "code",
   "execution_count": 1,
   "metadata": {
    "collapsed": true
   },
   "outputs": [],
   "source": [
    "from data.create_data import *\n",
    "import numpy as np\n",
    "import pandas as pd\n",
    "import scipy\n",
    "from scipy import stats\n",
    "import math\n",
    "import matplotlib.pyplot as plt\n",
    "from statsmodels.distributions.empirical_distribution import ECDF\n",
    "\n",
    "%matplotlib inline"
   ]
  },
  {
   "cell_type": "code",
   "execution_count": 2,
   "metadata": {
    "collapsed": false
   },
   "outputs": [],
   "source": [
    "data = read_frmgham()\n",
    "clean_data = data.dropna(subset=['sysbp', 'diabp'])\n",
    "sysbp = clean_data.sysbp\n",
    "diabp = clean_data.diabp"
   ]
  },
  {
   "cell_type": "markdown",
   "metadata": {},
   "source": [
    "### Hypothesis Testing\n",
    "Hypothesis Testing is the process of determining whether an apparent effect is statistically significant. In other words, it's a framework that determines whether the observed data deviates from what is expected."
   ]
  },
  {
   "cell_type": "markdown",
   "metadata": {},
   "source": [
    "### Research Questions\n",
    "1. (**One-Sample Hypothesis Test**) Are the apparent effects of blood pressure we see in the sample likely to appear in a larger population?\n",
    "2. (**Two-Sample Hypothesis Test**) Is the effect (difference in smoking status) statistically significant on blood pressure? In other words, do study sample means between smoking status (smokers and non-smokers) point to the same population?\n",
    "  * *Supplement Question*: Are the effects found from prior exploratory data analyses (smokers have slightly lower systolic and diastolic blood pressures) likely to appear in the large population?\n",
    "3. (**One-Tailed Hypothesis Test**) Are the effects (*lower systolic and diastolic blood pressures of smokers*) statistically significant?\n",
    "\n",
    "### Assumptions\n",
    "**Central Limit Theorem**:  \n",
    "The large sample size of the dataset enables the sampling distribution of the mean to be approximately normally distributed. Thus, enabling hypothesis testing despite knowing the population parameters or not."
   ]
  },
  {
   "cell_type": "markdown",
   "metadata": {},
   "source": [
    "## One-Sample Hypothesis Tests\n",
    "A one-sample hypothesis test determines if elements of the population can be statistically inferred from a random sample.  \n",
    "\n",
    "**Note**: The z-score and t-score are approximately equal due to the large sample size of the dataset (`n > 30`).  \n",
    "\n",
    "### Systolic Blood Pressure\n",
    "\n",
    "1) Hypotheses\n",
    "   * **H<sub>0</sub>**: The sample mean Systolic Blood Pressure (`sysbp`) points to the population mean, where μ = 120.\n",
    "   * **H<sub>A</sub>**: The sample mean Systolic Blood Pressure (`sysbp`) does not point to the population mean, where μ ≠ 120.\n",
    "   \n",
    "2) Compute **t-score** & **p-value**."
   ]
  },
  {
   "cell_type": "code",
   "execution_count": 3,
   "metadata": {
    "collapsed": false
   },
   "outputs": [
    {
     "name": "stdout",
     "output_type": "stream",
     "text": [
      "T-score = 77.21\n",
      "p-value = 0.00\n"
     ]
    }
   ],
   "source": [
    "sysbp_t, sysbp_pval = stats.ttest_1samp(sysbp, 120)\n",
    "print \"T-score = %.2f\" % sysbp_t\n",
    "print \"p-value = %.2f\" % sysbp_pval"
   ]
  },
  {
   "cell_type": "markdown",
   "metadata": {},
   "source": [
    "##### Summary Statistics\n",
    "Additional statistics about the sample."
   ]
  },
  {
   "cell_type": "code",
   "execution_count": 4,
   "metadata": {
    "collapsed": false
   },
   "outputs": [
    {
     "name": "stdout",
     "output_type": "stream",
     "text": [
      "Sample Size (n) = 11627\n",
      "Sample Mean (X-bar) = 136.32 mmHg\n",
      "Sample Standard Deviation (s) = 22.80\n",
      "95% Confidence Interval = [135.91, 136.74]\n",
      "\n",
      "Hypothesized Sample Mean (μ) = 120 mmHg\n",
      "Level of significance (α) = 0.05\n"
     ]
    }
   ],
   "source": [
    "print \"Sample Size (n) = %d\" % sysbp.shape[0]\n",
    "print \"Sample Mean (X-bar) = %.2f mmHg\" % sysbp.mean()\n",
    "print \"Sample Standard Deviation (s) = %.2f\" % sysbp.std()\n",
    "sysbp_ci = stats.norm.interval(0.95, loc = sysbp.mean(), scale=sysbp.std()/math.sqrt(len(sysbp)))\n",
    "print \"95\" + \"%\" + \" Confidence Interval = [%.2f, %.2f]\" % (sysbp_ci)\n",
    "print\n",
    "print \"Hypothesized Sample Mean (μ) = 120 mmHg\"\n",
    "print \"Level of significance (α) = 0.05\""
   ]
  },
  {
   "cell_type": "markdown",
   "metadata": {},
   "source": [
    "3) Results  \n",
    "  * test-statistic: **T-score** = 77.21\n",
    "  * **p-value** = 0.00 \n",
    "\n",
    "The **p-value** is < 0.05, providing substantial evidence against the null hypothesis (H<sub>0</sub>). Thus, H<sub>0</sub> is rejected in favor of the alternative hypothesis (H<sub>A</sub>).\n",
    "\n",
    "The sample mean deviates from H<sub>0</sub> by 77.21 and it's expected that we'd expect to see the data as extreme as our sample due to chance about 0% of the time, given a true H<sub>0</sub>.\n",
    "\n",
    "##### Conclusion\n",
    "`μ ≠ 120`\n",
    "\n",
    "Based on our sample, there is a statistically significant difference between the mean systolic blood pressure in our sample and hypothesized value."
   ]
  },
  {
   "cell_type": "markdown",
   "metadata": {},
   "source": [
    "### Diatolic Blood Pressure\n",
    "\n",
    "1) Hypotheses\n",
    "   * **H<sub>0</sub>**: The sample mean Diastolic Blood Pressure (`diabp`) points to the population mean, where μ = 82.95.\n",
    "   * **H<sub>A</sub>**: The sample mean Diatolic Blood Pressure (`diabp`) does not point to the population mean, where μ ≠ 82.95.\n",
    "   \n",
    "2) Compute **t-score** & **p-value**."
   ]
  },
  {
   "cell_type": "code",
   "execution_count": 5,
   "metadata": {
    "collapsed": false
   },
   "outputs": [
    {
     "name": "stdout",
     "output_type": "stream",
     "text": [
      "T-score = 0.81\n",
      "p-value = 0.42\n"
     ]
    }
   ],
   "source": [
    "diabp_t, diabp_pval = stats.ttest_1samp(diabp, 82.95)\n",
    "print \"T-score = %.2f\" % diabp_t\n",
    "print \"p-value = %.2f\" % diabp_pval"
   ]
  },
  {
   "cell_type": "markdown",
   "metadata": {},
   "source": [
    "##### Summary Statistics\n",
    "Additional statistics about the sample."
   ]
  },
  {
   "cell_type": "code",
   "execution_count": 6,
   "metadata": {
    "collapsed": false
   },
   "outputs": [
    {
     "name": "stdout",
     "output_type": "stream",
     "text": [
      "Sample Size (n) = 11627\n",
      "Sample Mean (X-bar) = 83.04 mmHg\n",
      "Sample Standard Deviation (s) = 11.66\n",
      "95% Confidence Interval = [82.83, 83.25]\n",
      "\n",
      "Hypothesized Sample Mean (μ) = 80 mmHg\n",
      "Level of significance (α) = 0.05\n"
     ]
    }
   ],
   "source": [
    "print \"Sample Size (n) = %d\" % diabp.shape[0]\n",
    "print \"Sample Mean (X-bar) = %.2f mmHg\" % diabp.mean()\n",
    "print \"Sample Standard Deviation (s) = %.2f\" % diabp.std()\n",
    "diabp_ci = stats.norm.interval(0.95, loc = diabp.mean(), scale=diabp.std()/math.sqrt(len(sysbp)))\n",
    "print \"95\" + \"%\" + \" Confidence Interval = [%.2f, %.2f]\" % (diabp_ci)\n",
    "print\n",
    "print \"Hypothesized Sample Mean (μ) = 80 mmHg\"\n",
    "print \"Level of significance (α) = 0.05\""
   ]
  },
  {
   "cell_type": "markdown",
   "metadata": {},
   "source": [
    "3) Results  \n",
    "  * test-statistic: **T-score** = 0.81\n",
    "  * **p-value** = 0.42 \n",
    "\n",
    "The **p-value** is large (p-value > 0.05), providing weak evidence against the null hypothesis (H<sub>0</sub>). Thus, H<sub>0</sub> cannot be rejected.\n",
    "\n",
    "The sample mean deviates from H<sub>0</sub> by 0.81 and it's expected that we'd expect to see the data as extreme as our sample due to chance about 42% of the time, given a true H<sub>0</sub>.\n",
    "\n",
    "##### Conclusion\n",
    "`μ = 82.95`\n",
    "\n",
    "Based on our sample, there is not a statistically significant difference between the mean diatolic blood pressure in our sample and hypothesized value."
   ]
  },
  {
   "cell_type": "markdown",
   "metadata": {},
   "source": [
    "## Two-Sample Hypothesis Test\n",
    "A two-sample hypothesis test compares two independent samples to see what extent they come from a population with the same mean.\n",
    "\n",
    "### Smoking Status\n",
    "Smoking Status (`cursmoke`):\n",
    " * `0`: non-current smoker\n",
    " * `1`: current smoker"
   ]
  },
  {
   "cell_type": "code",
   "execution_count": 7,
   "metadata": {
    "collapsed": false
   },
   "outputs": [],
   "source": [
    "non = clean_data[clean_data.cursmoke==0] \n",
    "cur = clean_data[clean_data.cursmoke!=0]"
   ]
  },
  {
   "cell_type": "markdown",
   "metadata": {},
   "source": [
    "#### Exploratory Data Analyses\n",
    "(*Please refer to previous IPython Notebook*)  \n",
    "Prior exploratory data analyses illustrated that smokers tend to have lower systolic and diastolic blood pressure than non-smokers. \n",
    "\n",
    "**Fundamental Question**: Are these effects that we see in the sample likely to appear in the larger population?\n",
    "  * Solution: Two-sample Hypothesis Tests"
   ]
  },
  {
   "cell_type": "code",
   "execution_count": 8,
   "metadata": {
    "collapsed": false
   },
   "outputs": [
    {
     "data": {
      "image/png": "[encoded data removed]",
      "text/plain": [
       "<matplotlib.figure.Figure at 0x7f8b5d00df10>"
      ]
     },
     "metadata": {},
     "output_type": "display_data"
    }
   ],
   "source": [
    "# CDF Systolic BP\n",
    "cdf_nonsys = ECDF(non.sysbp)\n",
    "cdf_cursys = ECDF(cur.sysbp)\n",
    "\n",
    "# CDF Systolic BP\n",
    "cdf_nondia = ECDF(non.diabp)\n",
    "cdf_curdia = ECDF(cur.diabp)\n",
    "\n",
    "# Plot\n",
    "plt.figure(figsize=(10,5))\n",
    "plt.subplot(1,2,1)\n",
    "plt.step(cdf_nonsys.x, cdf_nonsys.y, color='b', \n",
    "         label='Non-Smokers')\n",
    "plt.step(cdf_cursys.x, cdf_cursys.y, color='r', \n",
    "         label='Smokers')\n",
    "plt.xlabel('Blood Pressure (mmHg)')\n",
    "plt.ylabel('CDF (probability)')\n",
    "plt.title('Systolic Blood Pressure')\n",
    "plt.legend(loc='lower right')\n",
    "\n",
    "plt.subplot(1,2,2)\n",
    "plt.step(cdf_nondia.x, cdf_nondia.y, color='b', \n",
    "         label='Non-Smokers')\n",
    "plt.step(cdf_curdia.x, cdf_curdia.y, color='r', \n",
    "         label='Smokers')\n",
    "plt.xlabel('Blood Pressure (mmHg)')\n",
    "plt.ylabel('CDF (probability)')\n",
    "plt.title('Diastolic Blood Pressure')\n",
    "plt.legend(loc='lower right')\n",
    "plt.suptitle('Cumulative Distribution Function')\n",
    "plt.show()"
   ]
  },
  {
   "cell_type": "markdown",
   "metadata": {},
   "source": [
    "#### Systolic Blood Pressure"
   ]
  },
  {
   "cell_type": "code",
   "execution_count": 9,
   "metadata": {
    "collapsed": true
   },
   "outputs": [],
   "source": [
    "non_sysbp = non.sysbp\n",
    "cur_sysbp = cur.sysbp"
   ]
  },
  {
   "cell_type": "markdown",
   "metadata": {},
   "source": [
    "1) Hypotheses  \n",
    "  * **H<sub>0</sub>**: The means of both study samples (sample mean systolic blood pressure among non-smokers and smokers) point to the same population, where μ<sub>1</sub> = μ<sub>2</sub>.\n",
    "  * **H<sub>A</sub>**: The means of both study samples (sample mean systolic blood pressure among non-smokers and smokers) do not point to the same population, where μ<sub>1</sub> ≠ μ<sub>2</sub>.\n",
    "  \n",
    "2.) Compute the **t-score** and **p-value**."
   ]
  },
  {
   "cell_type": "code",
   "execution_count": 10,
   "metadata": {
    "collapsed": false
   },
   "outputs": [
    {
     "name": "stdout",
     "output_type": "stream",
     "text": [
      "The t-score is 15.33 and p-value is 0.00\n"
     ]
    }
   ],
   "source": [
    "sysbp_t, sysbp_p = stats.ttest_ind(non_sysbp, cur_sysbp)\n",
    "print \"The t-score is %.2f and p-value is %.2f\" % (sysbp_t, sysbp_p)"
   ]
  },
  {
   "cell_type": "markdown",
   "metadata": {},
   "source": [
    "##### Summary Statistics\n",
    "Additional statistics about the sample."
   ]
  },
  {
   "cell_type": "code",
   "execution_count": 11,
   "metadata": {
    "collapsed": false
   },
   "outputs": [
    {
     "name": "stdout",
     "output_type": "stream",
     "text": [
      "Group 1: Non-Current Smokers (0)\n",
      "---------------------------------\n",
      "Sample Size (n1) = 6598\n",
      "Sample Mean (X-bar1) = 139.13 mmHg\n",
      "Sample Standard Deviation (s1) = 23.18\n",
      "95% Confidence Interval = [138.57, 139.69]\n",
      "\n",
      "Group 2: Current Smokers (1)\n",
      "---------------------------------\n",
      "Sample Size (n2) = 5029\n",
      "Sample Mean (X-bar2) = 132.65 mmHg\n",
      "Sample Standard Deviation (s2) = 21.75\n",
      "95% Confidence Interval = [132.05, 133.25]\n",
      "\n",
      "Combined\n",
      "---------------------------------\n",
      "Sample Size (n1+2) = 11627\n",
      "Sample Mean (X-bar1+2) = 136.32 mmHg\n",
      "Sample Standard Deviation (s1+2) = 22.80\n",
      "95% Confidence Interval = [135.91, 136.74]\n",
      "\n",
      "Differences\n",
      "---------------------------------\n",
      "Sample Mean (X-bar2-1) = 6.48 mmHg\n",
      "\n",
      "Level of significance (α) = 0.05\n"
     ]
    }
   ],
   "source": [
    "print \"Group 1: Non-Current Smokers (0)\"\n",
    "print \"---------------------------------\"\n",
    "print \"Sample Size (n1) = %d\" % non_sysbp.shape[0]\n",
    "print \"Sample Mean (X-bar1) = %.2f mmHg\" % non_sysbp.mean()\n",
    "print \"Sample Standard Deviation (s1) = %.2f\" % non_sysbp.std()\n",
    "nonsysbp_ci = stats.norm.interval(0.95, loc = non_sysbp.mean(), scale=non_sysbp.std()/math.sqrt(len(non_sysbp)))\n",
    "print \"95\" + \"%\" + \" Confidence Interval = [%.2f, %.2f]\" % (nonsysbp_ci)\n",
    "print\n",
    "print \"Group 2: Current Smokers (1)\"\n",
    "print \"---------------------------------\"\n",
    "\n",
    "print \"Sample Size (n2) = %d\" % cur_sysbp.shape[0]\n",
    "print \"Sample Mean (X-bar2) = %.2f mmHg\" % cur_sysbp.mean()\n",
    "print \"Sample Standard Deviation (s2) = %.2f\" % cur_sysbp.std()\n",
    "cursysbp_ci = stats.norm.interval(0.95, loc = cur_sysbp.mean(), scale=cur_sysbp.std()/math.sqrt(len(cur_sysbp)))\n",
    "print \"95\" + \"%\" + \" Confidence Interval = [%.2f, %.2f]\" % (cursysbp_ci)\n",
    "print\n",
    "print \"Combined\"\n",
    "print \"---------------------------------\"\n",
    "print \"Sample Size (n1+2) = %d\" % sysbp.shape[0]\n",
    "print \"Sample Mean (X-bar1+2) = %.2f mmHg\" % sysbp.mean() \n",
    "print \"Sample Standard Deviation (s1+2) = %.2f\" % sysbp.std()\n",
    "sysbp_ci = stats.norm.interval(0.95, loc = sysbp.mean(), scale=sysbp.std()/math.sqrt(len(sysbp)))\n",
    "print \"95\" + \"%\" + \" Confidence Interval = [%.2f, %.2f]\" % (sysbp_ci)\n",
    "print\n",
    "print \"Differences\"\n",
    "print \"---------------------------------\"\n",
    "print \"Sample Mean (X-bar2-1) = %.2f mmHg\" % abs(cur_sysbp.mean() - non_sysbp.mean())\n",
    "print\n",
    "print \"Level of significance (α) = 0.05\""
   ]
  },
  {
   "cell_type": "markdown",
   "metadata": {},
   "source": [
    "3) Results  \n",
    "  * test-statistic: **T-score** = 15.33\n",
    "  * **p-value** = 0.00 \n",
    "\n",
    "The **p-value** is very small (p-value < 0.05), providing strong evidence against the null hypothesis (H<sub>0</sub>). Thus, H<sub>0</sub> is rejected in favor of H<sub>A</sub>.\n",
    "\n",
    "There is a 0% chance of seeing this large of a difference between samples (non-smokers and smokers) be due to  chance.\n",
    "\n",
    "##### Conclusion\n",
    "`μ`<sub>1</sub>` ≠ μ`<sub>2</sub>\n",
    "\n",
    "Based on our sample, it is not likely that the two smaple means (non-current and current smokers systolic blood pressure) point to the same population. The null hypothesis is rejected, determining that there is indeed a statistically significant difference in systolic blood pressure based on smoking status."
   ]
  },
  {
   "cell_type": "markdown",
   "metadata": {},
   "source": [
    "#### Diastolic Blood Pressure"
   ]
  },
  {
   "cell_type": "code",
   "execution_count": 12,
   "metadata": {
    "collapsed": true
   },
   "outputs": [],
   "source": [
    "non_diabp = non.diabp\n",
    "cur_diabp = cur.diabp"
   ]
  },
  {
   "cell_type": "markdown",
   "metadata": {},
   "source": [
    "1) Hypotheses  \n",
    "  * **H<sub>0</sub>**: The means of both study samples (sample mean diastolic blood pressure among non-smokers and smokers) point to the same population, where μ<sub>1</sub> = μ<sub>2</sub>.\n",
    "  * **H<sub>A</sub>**: The means of both study samples (sample mean diastolic blood pressure among non-smokers and smokers) do not point to the same population, where μ<sub>1</sub> ≠ μ<sub>2</sub>.\n",
    "  \n",
    "2.) Compute the **t-score** and **p-value**."
   ]
  },
  {
   "cell_type": "code",
   "execution_count": 13,
   "metadata": {
    "collapsed": false
   },
   "outputs": [
    {
     "name": "stdout",
     "output_type": "stream",
     "text": [
      "The t-score is 8.21 and p-value is 0.00\n"
     ]
    }
   ],
   "source": [
    "diabp_t, diabp_p = stats.ttest_ind(non_diabp, cur_diabp)\n",
    "print \"The t-score is %.2f and p-value is %.2f\" % (diabp_t, diabp_p)"
   ]
  },
  {
   "cell_type": "markdown",
   "metadata": {},
   "source": [
    "##### Summary Statistics\n",
    "Additional statistics about the sample."
   ]
  },
  {
   "cell_type": "code",
   "execution_count": 14,
   "metadata": {
    "collapsed": false
   },
   "outputs": [
    {
     "name": "stdout",
     "output_type": "stream",
     "text": [
      "Group 1: Non-Current Smokers (0)\n",
      "---------------------------------\n",
      "Sample Size (n1) = 6598\n",
      "Sample Mean (X-bar1) = 83.81 mmHg\n",
      "Sample Standard Deviation (s1) = 11.58\n",
      "95% Confidence Interval = [83.53, 84.09]\n",
      "\n",
      "Group 2: Current Smokers (1)\n",
      "---------------------------------\n",
      "Sample Size (n2) = 5029\n",
      "Sample Mean (X-bar2) = 82.02 mmHg\n",
      "Sample Standard Deviation (s2) = 11.68\n",
      "95% Confidence Interval = [81.70, 82.35]\n",
      "\n",
      "Combined\n",
      "---------------------------------\n",
      "Sample Size (n1+2) = 11627\n",
      "Sample Mean (X-bar1+2) = 83.04 mmHg\n",
      "Sample Standard Deviation (s1+2) = 11.66\n",
      "95% Confidence Interval = [82.83, 83.25]\n",
      "\n",
      "Differences\n",
      "---------------------------------\n",
      "Sample Mean (X-bar2-1) = 1.79 mmHg\n",
      "\n",
      "Level of significance (α) = 0.05\n"
     ]
    }
   ],
   "source": [
    "print \"Group 1: Non-Current Smokers (0)\"\n",
    "print \"---------------------------------\"\n",
    "print \"Sample Size (n1) = %d\" % non_diabp.shape[0]\n",
    "print \"Sample Mean (X-bar1) = %.2f mmHg\" % non_diabp.mean()\n",
    "print \"Sample Standard Deviation (s1) = %.2f\" % non_diabp.std()\n",
    "nondiabp_ci = stats.norm.interval(0.95, loc = non_diabp.mean(), scale=non_diabp.std()/math.sqrt(len(non_diabp)))\n",
    "print \"95\" + \"%\" + \" Confidence Interval = [%.2f, %.2f]\" % (nondiabp_ci)\n",
    "print\n",
    "print \"Group 2: Current Smokers (1)\"\n",
    "print \"---------------------------------\"\n",
    "\n",
    "print \"Sample Size (n2) = %d\" % cur_diabp.shape[0]\n",
    "print \"Sample Mean (X-bar2) = %.2f mmHg\" % cur_diabp.mean()\n",
    "print \"Sample Standard Deviation (s2) = %.2f\" % cur_diabp.std()\n",
    "curdiabp_ci = stats.norm.interval(0.95, loc = cur_diabp.mean(), scale=cur_diabp.std()/math.sqrt(len(cur_diabp)))\n",
    "print \"95\" + \"%\" + \" Confidence Interval = [%.2f, %.2f]\" % (curdiabp_ci)\n",
    "print\n",
    "print \"Combined\"\n",
    "print \"---------------------------------\"\n",
    "print \"Sample Size (n1+2) = %d\" % diabp.shape[0]\n",
    "print \"Sample Mean (X-bar1+2) = %.2f mmHg\" % diabp.mean() \n",
    "print \"Sample Standard Deviation (s1+2) = %.2f\" % diabp.std()\n",
    "diabp_ci = stats.norm.interval(0.95, loc = diabp.mean(), scale=diabp.std()/math.sqrt(len(diabp)))\n",
    "print \"95\" + \"%\" + \" Confidence Interval = [%.2f, %.2f]\" % (diabp_ci)\n",
    "print\n",
    "print \"Differences\"\n",
    "print \"---------------------------------\"\n",
    "print \"Sample Mean (X-bar2-1) = %.2f mmHg\" % abs(cur_diabp.mean() - non_diabp.mean())\n",
    "print\n",
    "print \"Level of significance (α) = 0.05\""
   ]
  },
  {
   "cell_type": "markdown",
   "metadata": {},
   "source": [
    "3) Results  \n",
    "  * test-statistic: **T-score** = 8.21\n",
    "  * **p-value** = 0.00 \n",
    "\n",
    "The **p-value** is very small (p-value < 0.05), providing strong evidence against the null hypothesis (H<sub>0</sub>). Thus, H<sub>0</sub> is rejected in favor of H<sub>A</sub>.\n",
    "\n",
    "There is a 0% chance of seeing this large of a difference between samples (non-smokers and smokers) be due to  chance.\n",
    "\n",
    "##### Conclusion\n",
    "`μ`<sub>1</sub>` ≠ μ`<sub>2</sub>\n",
    "\n",
    "Based on our sample, it is not likely that the two smaple means (non-current and current smokers diastolic blood pressure) point to the same population. The null hypothesis is rejected, determining that there is indeed a statistically significant difference in diatolic blood pressure based on smoking status."
   ]
  },
  {
   "cell_type": "markdown",
   "metadata": {},
   "source": [
    "## One-Tail Hypothesis Test\n",
    "One-tailed hypothesis tests test for the possibility of the relationship in *one direction*, disregarding the possibility of a relationship in the other direction. By testing a more specific hypothesis, provides more poer to detect an effect in the direction.\n",
    "\n",
    "Only 1 side of the distribution is accounted for. All of the significance level is alloted to that direction of interest.\n",
    "\n",
    "### Smoker's *Lower* Systolic Blood Pressure"
   ]
  },
  {
   "cell_type": "markdown",
   "metadata": {},
   "source": [
    "1) Hypotheses  \n",
    "  * **H<sub>0</sub>**: The means of both study samples (non-smokers and smokers) point to the same population, where μ<sub>1</sub> = μ<sub>2</sub>.\n",
    "  * **H<sub>A</sub>**: The means of both study samples do not point to the same population, where μ<sub>1</sub> ≠ μ<sub>2</sub>. \n",
    "    * Smokers are more likely to have lower systolic blood pressure.\n",
    "  \n",
    "2.) Compute the **t-score** and **p-value**."
   ]
  },
  {
   "cell_type": "code",
   "execution_count": 15,
   "metadata": {
    "collapsed": false
   },
   "outputs": [
    {
     "name": "stdout",
     "output_type": "stream",
     "text": [
      "The t-score is 15.33 and p-value (one-tail) is 0.00\n"
     ]
    }
   ],
   "source": [
    "sysbp_t, sysbp_p = stats.ttest_ind(non_sysbp, cur_sysbp)\n",
    "print \"The t-score is %.2f and p-value (one-tail) is %.2f\" % (sysbp_t, sysbp_p/2.0)"
   ]
  },
  {
   "cell_type": "markdown",
   "metadata": {},
   "source": [
    "3) Results  \n",
    "  * **t-score (15.33) > 0**\n",
    "  * **p-value (0) ≤  0.05**  \n",
    "\n",
    "Despite a low p-value, the t-score is greater than 0. Thus, the null hypothesis cannot be rejected. The difference is *not* statistically significant. Smokers with lower systolic blood pressure point to the same population as non-smokers."
   ]
  },
  {
   "cell_type": "markdown",
   "metadata": {},
   "source": [
    "### Smoker's *Lower* Diatolic Blood Pressure\n",
    "\n",
    "1) Hypotheses  \n",
    "  * **H<sub>0</sub>**: The means of both study samples (non-smokers and smokers) point to the same population, where μ<sub>1</sub> = μ<sub>2</sub>.\n",
    "  * **H<sub>A</sub>**: The means of both study samples do not point to the same population, where μ<sub>1</sub> ≠ μ<sub>2</sub>. \n",
    "    * Smokers are more likely to have lower systolic blood pressure.\n",
    "  \n",
    "2.) Compute the **t-score** and **p-value**."
   ]
  },
  {
   "cell_type": "code",
   "execution_count": 16,
   "metadata": {
    "collapsed": false
   },
   "outputs": [
    {
     "name": "stdout",
     "output_type": "stream",
     "text": [
      "The t-score is 8.21 and p-value (one-tail) is 0.00\n"
     ]
    }
   ],
   "source": [
    "diabp_t, diabp_p = stats.ttest_ind(non_diabp, cur_diabp)\n",
    "print \"The t-score is %.2f and p-value (one-tail) is %.2f\" % (diabp_t, diabp_p/2.0)"
   ]
  },
  {
   "cell_type": "markdown",
   "metadata": {},
   "source": [
    "3) Results  \n",
    "  * **t-score (8.21) > 0**\n",
    "  * **p-value (0) ≤  0.05**  \n",
    "\n",
    "Despite a low p-value, the t-score is greater than 0. Thus, the null hypothesis cannot be rejected. The difference is *not* statistically significant. Smokers with lower diatolic blood pressure point to the same population as non-smokers."
   ]
  },
  {
   "cell_type": "markdown",
   "metadata": {},
   "source": [
    "# Considerations: Errors\n",
    "In classic hypothesis testing, an affect is considered * statistically significant* if the p-value is below some threshold (`α=0.05`).\n",
    "\n",
    "## Type I Error (False Positive Rate)\n",
    "The **False Positive Rate** is the probability of incorrectly considering an effect significant. \n",
    "  * Rejecting H<sub>0</sub> when it's actually true. Thus, concluding that an effect is real when it's not and is actually due to chance.\n",
    "\n",
    "The False Positive Rate is equal to the level of significance (α). Thus, **FPR = 0.05**. You can expect a false positive 1 in 20 times when performing a hypothesis test.\n",
    "\n",
    "## Type II Error (False Negative Rate)\n",
    "The **False Negative Rate** is the probability of the hypothesis test failing, when the apparent effect is real. \n",
    "  * Failure to reject the H<sub>0</sub> when it's actually false. Thus, concluding that the effect is due to chance when it's not and is statistically significant."
   ]
  }
 ],
 "metadata": {
  "kernelspec": {
   "display_name": "Python 2",
   "language": "python",
   "name": "python2"
  },
  "language_info": {
   "codemirror_mode": {
    "name": "ipython",
    "version": 2
   },
   "file_extension": ".py",
   "mimetype": "text/x-python",
   "name": "python",
   "nbconvert_exporter": "python",
   "pygments_lexer": "ipython2",
   "version": "2.7.11"
  }
 },
 "nbformat": 4,
 "nbformat_minor": 2
}
