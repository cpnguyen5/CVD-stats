{
 "cells": [
  {
   "cell_type": "markdown",
   "metadata": {},
   "source": [
    "# Analysis of Variance (ANOVA)"
   ]
  },
  {
   "cell_type": "code",
   "execution_count": 1,
   "metadata": {
    "collapsed": true
   },
   "outputs": [],
   "source": [
    "from data.create_data import *\n",
    "import numpy as np\n",
    "import pandas as pd\n",
    "import scipy\n",
    "from scipy import stats\n",
    "import matplotlib.pyplot as plt\n",
    "\n",
    "%matplotlib inline"
   ]
  },
  {
   "cell_type": "code",
   "execution_count": 2,
   "metadata": {
    "collapsed": false
   },
   "outputs": [],
   "source": [
    "data = read_frmgham()\n",
    "data.educ.dropna(inplace=True)\n",
    "data['educ'] = data.educ.astype('int')"
   ]
  },
  {
   "cell_type": "markdown",
   "metadata": {},
   "source": [
    "### Research Question\n",
    "1. Is there any difference in the mean blood pressures across the various levels of education? \n",
    "  * Do any of the group means differ from one another?\n",
    "  * Can a significant proportion of the overall variability found in the blood pressures be attributed to the known differences between the groups?  \n",
    "\n",
    "#### Legend: Factor/Treatment = `Education Level`\n",
    "The group or categorical variable is `educ`, which persists of 4 levels:\n",
    "  * **`1`**: 0-11 years of education (denoted as `elem`)\n",
    "  * **`2`**: High School Diploma, GED (denoted as `high`)\n",
    "  * **`3`**: some college, vocational school (denoted as `some_college`)\n",
    "  * **`4`**: College degree or more (denoted as `college`)"
   ]
  },
  {
   "cell_type": "markdown",
   "metadata": {},
   "source": [
    "## One-way ANOVA\n",
    "One-way ANOVA tests whether the mean of systolic or diastolic blood pressure differs across the various levels of education.\n",
    "\n",
    "The ANOVA test enables comparison of more than two group means, while keeping the Type I error at 0.05.\n",
    "\n",
    "### Test-statistic: `F-statistic`\n",
    "The **F-statistic** or **F-ratio** is the ratio comparing variance.  \n",
    "\n",
    "`F = variance`<sub>between groups</sub>` / variance`<sub>within groups</sub>\n",
    "\n",
    "Interpretations:\n",
    "  * **F = 1.0**: There is no difference in the mean blood pressures of individuals in the various education groups.\n",
    "    * H<sub>0</sub> is true\n",
    "  * **F > 1.0**: There is a difference in the mean blood pressures of individuals in the various education groups.\n",
    "    * H<sub>0</sub> is false\n",
    "\n",
    "#### Systolic Blood Pressure\n",
    "\n",
    "1) Hypotheses\n",
    "  * **H<sub>0</sub>**: The sample mean of systolic blood pressure points to a population where the population mean is μ so that μ<sub>1</sub> = μ<sub>2</sub> = μ<sub>3</sub> = μ<sub>4</sub>.\n",
    "  * **H<sub>A</sub>**: The sample mean of systolic blood pressure points to a population where the population mean is not μ so that μ<sub>1</sub> ≠  μ<sub>2</sub> ≠ μ<sub>3</sub> ≠ μ<sub>4</sub>.\n",
    "  \n",
    "  \n",
    "2) Compute **t-statistic** (F-statistic/F-ratio) & **p-value**."
   ]
  },
  {
   "cell_type": "code",
   "execution_count": 3,
   "metadata": {
    "collapsed": false
   },
   "outputs": [],
   "source": [
    "elem_sysbp = data[data['educ'] == 1]['sysbp']\n",
    "high_sysbp = data[data['educ'] == 2]['sysbp']\n",
    "some_college_sysbp = data[data['educ'] == 3]['sysbp']\n",
    "college_sysbp = data[data['educ'] == 4]['sysbp']"
   ]
  },
  {
   "cell_type": "code",
   "execution_count": 4,
   "metadata": {
    "collapsed": false
   },
   "outputs": [
    {
     "name": "stdout",
     "output_type": "stream",
     "text": [
      "One-way ANOVA F-statistic = 55.53\n",
      "One-way ANOVA p-value = 0.00\n"
     ]
    }
   ],
   "source": [
    "f_sysbp, fpval_sysbp = stats.f_oneway(elem_sysbp, high_sysbp, \n",
    "                                      some_college_sysbp, college_sysbp)\n",
    "print \"One-way ANOVA F-statistic = %.2f\" % f_sysbp\n",
    "print \"One-way ANOVA p-value = %.2f\" % fpval_sysbp"
   ]
  },
  {
   "cell_type": "markdown",
   "metadata": {},
   "source": [
    "3) Results\n",
    "  * test-statistic: **F-statistic** = 55.53\n",
    "  * **p-value** = 0\n",
    "\n",
    "The **p-value** is small (p-value < 0.05), providing substantial evidence against the null hypothesis (H<sub>0</sub>). Hence, H<sub>0</sub> is rejected in favor of the alternative hypothesis (H<sub>A</sub>).\n",
    "\n",
    "Additionally, the test-statistic, **F-statistic/ratio** is greater than 1. Hence, further supporting the rejection of H<sub>0</sub>.\n",
    "\n",
    "##### Conclusion\n",
    "μ<sub>1</sub> ≠  μ<sub>2</sub> ≠ μ<sub>3</sub> ≠ μ<sub>4</sub>\n",
    "\n",
    "Based on the results, it's concluded that there is a statistically significant difference in the mean systolic blood pressure (mmHg) of individuals in the various levels of education (groups 1, 2, 3, 4). The mean systolic blood pressure vary between the groups."
   ]
  },
  {
   "cell_type": "markdown",
   "metadata": {},
   "source": [
    "#### Diastolic Blood Pressure\n",
    "\n",
    "1) Hypotheses\n",
    "  * **H<sub>0</sub>**: The sample mean of diastolic blood pressure points to a population where the population mean is μ so that μ<sub>1</sub> = μ<sub>2</sub> = μ<sub>3</sub> = μ<sub>4</sub>.\n",
    "  * **H<sub>A</sub>**: The sample mean of diastolic lbood pressure points to a population where the population mean is not μ so that μ<sub>1</sub> ≠  μ<sub>2</sub> ≠ μ<sub>3</sub> ≠ μ<sub>4</sub>.\n",
    "  \n",
    "  \n",
    "2) Compute **t-statistic** (F-statistic/F-ratio) & **p-value**."
   ]
  },
  {
   "cell_type": "code",
   "execution_count": 5,
   "metadata": {
    "collapsed": true
   },
   "outputs": [],
   "source": [
    "elem_dbp = data[data['educ'] == 1]['diabp']\n",
    "high_dbp = data[data['educ'] == 2]['diabp']\n",
    "some_college_dbp = data[data['educ'] == 3]['diabp']\n",
    "college_dbp = data[data['educ'] == 4]['diabp']"
   ]
  },
  {
   "cell_type": "code",
   "execution_count": 6,
   "metadata": {
    "collapsed": false
   },
   "outputs": [
    {
     "name": "stdout",
     "output_type": "stream",
     "text": [
      "One-way ANOVA F-statistic = 8.91\n",
      "One-way ANOVA p-value = 0.00\n"
     ]
    }
   ],
   "source": [
    "f_diabp, fpval_diabp = stats.f_oneway(elem_dbp, high_dbp, \n",
    "                                      some_college_dbp, college_dbp)\n",
    "print \"One-way ANOVA F-statistic = %.2f\" % f_diabp\n",
    "print \"One-way ANOVA p-value = %.2f\" % fpval_diabp"
   ]
  },
  {
   "cell_type": "markdown",
   "metadata": {},
   "source": [
    "3) Results\n",
    "  * test-statistic: **F-statistic** = 8.91\n",
    "  * **p-value** = 0\n",
    "\n",
    "The **p-value** is small (p-value < 0.05), providing substantial evidence against the null hypothesis (H<sub>0</sub>). Hence, H<sub>0</sub> is rejected in favor of the alternative hypothesis (H<sub>A</sub>).\n",
    "\n",
    "Additionally, the test-statistic, **F-statistic/ratio** is greater than 1. Hence, further supporting the rejection of H<sub>0</sub>.\n",
    "\n",
    "##### Conclusion\n",
    "μ<sub>1</sub> ≠  μ<sub>2</sub> ≠ μ<sub>3</sub> ≠ μ<sub>4</sub>\n",
    "\n",
    "Based on the results, it's concluded that there is a statistically significant difference in the mean diastolic blood pressure (mmHg) of individuals in the various levels of education (groups 1, 2, 3, 4). The mean diatolic blood pressure vary between the groups."
   ]
  }
 ],
 "metadata": {
  "kernelspec": {
   "display_name": "Python 2",
   "language": "python",
   "name": "python2"
  },
  "language_info": {
   "codemirror_mode": {
    "name": "ipython",
    "version": 2
   },
   "file_extension": ".py",
   "mimetype": "text/x-python",
   "name": "python",
   "nbconvert_exporter": "python",
   "pygments_lexer": "ipython2",
   "version": "2.7.11"
  }
 },
 "nbformat": 4,
 "nbformat_minor": 2
}
