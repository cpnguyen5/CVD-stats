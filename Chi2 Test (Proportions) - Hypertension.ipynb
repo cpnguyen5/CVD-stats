{
 "cells": [
  {
   "cell_type": "markdown",
   "metadata": {},
   "source": [
    "# Hypothesis Test: Proportions\n",
    "\n",
    "## Smoking Status vs. Hypertension"
   ]
  },
  {
   "cell_type": "code",
   "execution_count": 1,
   "metadata": {
    "collapsed": true
   },
   "outputs": [],
   "source": [
    "from data.create_data import *\n",
    "import numpy as np\n",
    "import pandas as pd\n",
    "import scipy\n",
    "from scipy import stats\n",
    "import math\n",
    "import matplotlib.pyplot as plt\n",
    "from statsmodels.distributions.empirical_distribution import ECDF\n",
    "\n",
    "%matplotlib inline"
   ]
  },
  {
   "cell_type": "code",
   "execution_count": 2,
   "metadata": {
    "collapsed": false
   },
   "outputs": [],
   "source": [
    "data = read_frmgham()\n",
    "data_hyp = data[data['prevhyp']!=1] # drop prev history of hypertension\n",
    "data_hyp = data_hyp[['cursmoke', 'hyperten']]"
   ]
  },
  {
   "cell_type": "markdown",
   "metadata": {},
   "source": [
    "### Research Questions\n",
    "1. Is there a statistically significant association between smoking status and the presence of hypertension?\n",
    "\n",
    "#### Categorical Variables\n",
    "##### Smoking Status (`cursmoke`)\n",
    "  * `0`: Non-current smoker\n",
    "  * `1`: Current smoker\n",
    "  \n",
    "##### Hypertension (`hyperten`)\n",
    "Hypertension is defined as the first exam being treated for high blood pressure (Systolic blood pressure ≥ 140 mmHg or Diastolic blood pressure ≥ 90 mmHg).  \n",
    "  * `0`: No hypertension\n",
    "  * `1`: Hypertension\n",
    "  \n",
    "## Chi<sup>2</sup> Tests\n",
    "Chi<sup>2</sup> test investigates the *differences* between **categorical variables**, as opposed to numerical values of `t-tests` (hypothesis testing of differences between numerical values).\n",
    "\n",
    "More specifically, they provide a way to investigate:\n",
    "  * the differences in the distributions of categorical variables with the same categories (**Goodness of Fit**)\n",
    "  * the dependence between categorical variables (**Independence Test**)\n",
    "\n",
    "### Proportions\n",
    "By testing for **proportions**, Chi<sup>2</sup> is testing for the difference between the *expected* and *observed* outcomes."
   ]
  },
  {
   "cell_type": "markdown",
   "metadata": {},
   "source": [
    "### Chi<sup>2</sup> Test: *Goodness-of-Fit* \n",
    "The **goodness-of-fit** test tests whether the distribution of a sample *categorical* data matches an expected distribution.\n",
    "  * It's an analog of the *One-way t-test*, but for categorical variables.\n",
    "  \n",
    "**Case Use Examples**:\n",
    "  * Check whether the race demographics of members of your school match that of the entire U.S. population.\n"
   ]
  },
  {
   "cell_type": "markdown",
   "metadata": {},
   "source": [
    "#### Hypertension\n",
    "\n",
    "1) Hypotheses\n",
    "   * **H<sub>0</sub>**: There is no difference between expected and observed outcome of hypertension.\n",
    "   * **H<sub>A</sub>**: There is a difference between expected and observed outcome of hypertension.\n",
    "   \n",
    "2) Compute **t-statistic** (Chi<sup>2</sup>) & **p-value**."
   ]
  },
  {
   "cell_type": "code",
   "execution_count": 3,
   "metadata": {
    "collapsed": false
   },
   "outputs": [
    {
     "data": {
      "text/html": [
       "<div>\n",
       "<table border=\"1\" class=\"dataframe\">\n",
       "  <thead>\n",
       "    <tr style=\"text-align: right;\">\n",
       "      <th>col_0</th>\n",
       "      <th>count</th>\n",
       "    </tr>\n",
       "    <tr>\n",
       "      <th>hyperten</th>\n",
       "      <th></th>\n",
       "    </tr>\n",
       "  </thead>\n",
       "  <tbody>\n",
       "    <tr>\n",
       "      <th>0</th>\n",
       "      <td>2985</td>\n",
       "    </tr>\n",
       "    <tr>\n",
       "      <th>1</th>\n",
       "      <td>3298</td>\n",
       "    </tr>\n",
       "  </tbody>\n",
       "</table>\n",
       "</div>"
      ],
      "text/plain": [
       "col_0     count\n",
       "hyperten       \n",
       "0          2985\n",
       "1          3298"
      ]
     },
     "execution_count": 3,
     "metadata": {},
     "output_type": "execute_result"
    }
   ],
   "source": [
    "hyperten_table=pd.crosstab(data_hyp.hyperten, columns=\"count\")\n",
    "hyperten_table"
   ]
  },
  {
   "cell_type": "code",
   "execution_count": 4,
   "metadata": {
    "collapsed": false
   },
   "outputs": [
    {
     "name": "stdout",
     "output_type": "stream",
     "text": [
      "Goodness-of-Fit Chi2 = 15.59\n",
      "Goodness-of-Fit Chi2 = 0.00\n"
     ]
    }
   ],
   "source": [
    "gof_chi2, gof_pval = stats.chisquare(f_obs = hyperten_table)\n",
    "print \"Goodness-of-Fit Chi2 = %.2f\" % gof_chi2\n",
    "print \"Goodness-of-Fit Chi2 = %.2f\" % gof_pval"
   ]
  },
  {
   "cell_type": "markdown",
   "metadata": {},
   "source": [
    "3) Results\n",
    "  * test-statistic: **Chi<sup>2</sup>** = 15.59\n",
    "  * **p-value** = 0\n",
    "\n",
    "The **p-value** is very small (p-value < 0.05), providing substantial evidence against the null hypothesis (H<sub>0</sub>). Thus, H<sub>0</sub> is rejected in favor of the alternative hypothesis (H<sub>A</sub>).\n",
    "\n",
    "##### Conclusion\n",
    "There is a statistically significant difference between the expected and observed values of hypertension. Thus, the set of categorical data did not come from a discrete distribution (follows expected population mean).\n",
    "\n",
    "In other words, the proportion of hypertensive patients in the sample is not indicative of that of the population (*expectation*)."
   ]
  },
  {
   "cell_type": "markdown",
   "metadata": {},
   "source": [
    "### Chi<sup>2</sup> Test: *Independence Test*\n",
    "The **test of independence** determines if the output (*hypertension*) is dependent on a predictor variable (*smoking status*). In other words, the test determines whether 2 categorical variables are associated with one another in the population.\n",
    "\n",
    "1) Hypotheses\n",
    "   * **H<sub>0</sub>**: The data point to a population where there is no relationship between current smoking and hypertension.\n",
    "   * **H<sub>A</sub>**: The data point to a population where there is a relationship between current smoking and hypertension.\n",
    "   \n",
    "2) Compute **t-statistic** (Chi<sup>2</sup>) & **p-value**."
   ]
  },
  {
   "cell_type": "code",
   "execution_count": 5,
   "metadata": {
    "collapsed": false
   },
   "outputs": [
    {
     "data": {
      "text/html": [
       "<div>\n",
       "<table border=\"1\" class=\"dataframe\">\n",
       "  <thead>\n",
       "    <tr style=\"text-align: right;\">\n",
       "      <th>hyperten</th>\n",
       "      <th>0</th>\n",
       "      <th>1</th>\n",
       "    </tr>\n",
       "    <tr>\n",
       "      <th>cursmoke</th>\n",
       "      <th></th>\n",
       "      <th></th>\n",
       "    </tr>\n",
       "  </thead>\n",
       "  <tbody>\n",
       "    <tr>\n",
       "      <th>0</th>\n",
       "      <td>1403</td>\n",
       "      <td>1740</td>\n",
       "    </tr>\n",
       "    <tr>\n",
       "      <th>1</th>\n",
       "      <td>1582</td>\n",
       "      <td>1558</td>\n",
       "    </tr>\n",
       "  </tbody>\n",
       "</table>\n",
       "</div>"
      ],
      "text/plain": [
       "hyperten     0     1\n",
       "cursmoke            \n",
       "0         1403  1740\n",
       "1         1582  1558"
      ]
     },
     "execution_count": 5,
     "metadata": {},
     "output_type": "execute_result"
    }
   ],
   "source": [
    "# Contingency Table\n",
    "contin_table = data_hyp.pivot_table(index=['cursmoke', 'hyperten'], aggfunc=len)\n",
    "# contin_table = data_hyp.groupby(['cursmoke', 'hyperten']).size()\n",
    "df_contin_table = contin_table.unstack('hyperten')\n",
    "df_contin_table"
   ]
  },
  {
   "cell_type": "code",
   "execution_count": 6,
   "metadata": {
    "collapsed": false
   },
   "outputs": [
    {
     "name": "stdout",
     "output_type": "stream",
     "text": [
      "Test-statistic: Chi2 = 20.55\n",
      "p-value = 0.000006\n"
     ]
    }
   ],
   "source": [
    "chi2_val, chi2_pval, chi2_df, chi2_expect_val = stats.chi2_contingency(df_contin_table)\n",
    "print \"Test-statistic: Chi2 = %.2f\" % chi2_val\n",
    "print \"p-value = %f\" % chi2_pval"
   ]
  },
  {
   "cell_type": "markdown",
   "metadata": {},
   "source": [
    "##### Summary Statistics\n",
    "Additional statistics about the sample."
   ]
  },
  {
   "cell_type": "code",
   "execution_count": 7,
   "metadata": {
    "collapsed": false
   },
   "outputs": [
    {
     "name": "stdout",
     "output_type": "stream",
     "text": [
      "Total Non-Smokers = 3143\n",
      "Total Smokers = 3140\n",
      "Total without Hypertension = 2985\n",
      "Total with Hypertension = 3298\n",
      "\n",
      "Current Non-Smoker without Hypertension = 1403\n",
      "Current Non-Smoker with Hypertension = 1740\n",
      "Current Smoker without Hypertension = 1582\n",
      "Current Smoker with Hypertension - 1558\n"
     ]
    }
   ],
   "source": [
    "contin_val = df_contin_table.values\n",
    "print \"Total Non-Smokers = %d\" % (contin_val[0,0] + contin_val[0,1])\n",
    "print \"Total Smokers = %d\" % (contin_val[1,0] + contin_val[1,1])\n",
    "print \"Total without Hypertension = %d\" % (contin_val[0,0] + contin_val[1,0])\n",
    "print \"Total with Hypertension = %d\" % (contin_val[0,1] + contin_val[1,1])\n",
    "print\n",
    "print \"Current Non-Smoker without Hypertension = %d\" % (contin_val[0,0])\n",
    "print \"Current Non-Smoker with Hypertension = %d\" % (contin_val[0,1])\n",
    "print \"Current Smoker without Hypertension = %d\" % (contin_val[1,0])\n",
    "print \"Current Smoker with Hypertension - %d\" % (contin_val[1,1])"
   ]
  },
  {
   "cell_type": "markdown",
   "metadata": {},
   "source": [
    "3) Results\n",
    "  * test-statistic: **Chi<sup>2</sup>** = 20.55\n",
    "  * **p-value** = 0.000006\n",
    "  \n",
    "The **p-value** is small (p-value < 0.05), providing substantial evidence against the null hypothesis (H<sub>0</sub>). Thus, rejecting H<sub>0</sub> in favor of the alternative hypothesis (H<sub>A</sub>)\n",
    "\n",
    "If H<sub>0</sub> *were to be true*, the test-statistic (Chi<sup>2</sup>) value should be close to 0, indicating that the difference between the observed and expected is small.\\n\",\n",
    " -    \"\\n\",\n",
    "\n",
    "##### Conclusion\n",
    "Based on the sample, there is a statistically significant difference between being a current smoker and having hypertension. The Chi<sup>2</sup> value is large and not approximately close to zero, indicating a difference between the observed and expected outcomes\n",
    "\n",
    "There is a relationship between smoking status and hypertension. Thus, the two variables are not independent of one another.\n"
   ]
  },
  {
   "cell_type": "markdown",
   "metadata": {},
   "source": [
    "## Considerations: Limitations\n",
    "**Chi<sup>2</sup> testing** indicates that there is a difference, but does not provide anything specific about what the difference is. "
   ]
  }
 ],
 "metadata": {
  "kernelspec": {
   "display_name": "Python 2",
   "language": "python",
   "name": "python2"
  },
  "language_info": {
   "codemirror_mode": {
    "name": "ipython",
    "version": 2
   },
   "file_extension": ".py",
   "mimetype": "text/x-python",
   "name": "python",
   "nbconvert_exporter": "python",
   "pygments_lexer": "ipython2",
   "version": "2.7.11"
  }
 },
 "nbformat": 4,
 "nbformat_minor": 2
}
