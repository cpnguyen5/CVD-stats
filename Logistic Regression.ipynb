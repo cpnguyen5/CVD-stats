{
 "cells": [
  {
   "cell_type": "markdown",
   "metadata": {},
   "source": [
    "# Logistic Regression "
   ]
  },
  {
   "cell_type": "code",
   "execution_count": 1,
   "metadata": {
    "collapsed": true
   },
   "outputs": [],
   "source": [
    "from data.create_data import *\n",
    "import numpy as np\n",
    "import pandas as pd\n",
    "import statsmodels.formula.api as smf\n",
    "import matplotlib.pyplot as plt\n",
    "\n",
    "%matplotlib inline"
   ]
  },
  {
   "cell_type": "code",
   "execution_count": 4,
   "metadata": {
    "collapsed": false
   },
   "outputs": [],
   "source": [
    "data = read_frmgham()\n",
    "data.dropna(subset=['hyperten', 'age'], inplace=True)"
   ]
  },
  {
   "cell_type": "markdown",
   "metadata": {},
   "source": [
    "### Research Questions\n",
    "  1. Is there an effect of age on the onset of hypertension?\n",
    "\n",
    "#### Hypertension\n",
    "Hypertension is defined per the dataset as high blood pressure where the patient has one of the following:\n",
    "  * Systolic blood pressure (`sysbp`) ≥ 140 mmHg\n",
    "  * Diastolic blood pressure (`diabp`) ≥ 90 mmHg"
   ]
  },
  {
   "cell_type": "markdown",
   "metadata": {},
   "source": [
    "## Model: Logistic Regression\n",
    "Logistic regression is a form of regression used when the dependent variable (*response*) is **dichotomous/binary**. Essentially, it is a predictive model (supervised learning) that addresses a *classification* problem. \n",
    "\n",
    "The logistic model predicts the probability of ownership to a particular class, *mapping the observation to a particular class label*.\n",
    "\n",
    "### Consideration: *Why not apply linear regression?*\n",
    "Although the response is numerical, the semantics of the variable is binary with **`0`** and **`1`** values, each representing their own particular meaning.\n",
    "\n",
    "##### Problem of Linear Regression Model\n",
    "A *linear regression* model produces prediction is (`y`) that are difficult to interpret, producing predictions that are not binary (e.g. y = 0.5). The only meaningful values of a dichotomous response variable are **`0`** and **`1`**.  \n",
    "\n",
    "##### Benefits of Logistic Regression\n",
    "*Logistic Regression* avoids this issue by expressing predictions in terms of **odds** rather than the probabilities. More specifically, it s predictions are *odds of a particular class/event*.\n",
    "  * Odds are different representations of the same information as probabilities.\n",
    "  * Odds (of an event/class) are given by the ratio of the probaiblity of the event by its complement.\n",
    "  * The range of odds is [0, 1], aligning with the dichotomoy of the response variable.\n",
    "  \n",
    "`odds = o = p / (1 - p)`\n",
    "\n",
    "#### Equation\n",
    "**`log o = β`<sub>0</sub> `+ β`<sub>1</sub>` X`<sub>1</sub>**\n",
    "\n",
    "Model Coefficients:\n",
    "  * **β<sub>0</sub>**: intercept\n",
    "     * log(odds) value * when `x`<sub>1</sub> (predictor) = 0\n",
    "  * **β<sub>1</sub>**: difference in log (odds) in the outcome (`y`) between `x`.\n",
    "     * For every one unit change in `x`<sub>1</sub>, `log o` changes by β<sub>1</sub>.\n",
    "     * similarly, for every one unit change in `x`<sub>1</sub>, the odds are changed by `e`<sup>β<sub>1</sub></sup>\n",
    "\n",
    "##### Odds Ratio\n",
    "e<sup>β<sub>1</sub>+β<sub>1</sub></sup>: odds ratio of disease onset\n",
    "e<sup>β<sub>0</sub></sup>: odds ratio of no disease onset\n",
    "\n",
    "#### Predictory Variables (`X`)\n",
    "  * **`age`**: age of patients\n",
    "\n",
    "#### Response (`Y`)\n",
    "  * **`hyperten`**: onset of hypertension\n",
    "    * **`0`**: No hypertension\n",
    "    * **`1`**: patient has hypertension"
   ]
  },
  {
   "cell_type": "markdown",
   "metadata": {},
   "source": [
    "### Hypothesis Tests\n",
    "\n",
    "1) Hypothesis\n",
    "  * **H<sub>0</sub>**: There is no effect of age on the onset of hypertension (β<sub>1</sub>=0).\n",
    "  * **H<sub>A</sub>**: There is an effect of age on the onset of hypertension (β<sub>1</sub>=0).\n",
    "  \n",
    "2) Statistical Test\n",
    "Compute the test statistic & p-value\n",
    "  * test statistic: (β<sub>1</sub> = β<sub>diabetes</sub>)"
   ]
  },
  {
   "cell_type": "code",
   "execution_count": 7,
   "metadata": {
    "collapsed": false
   },
   "outputs": [
    {
     "name": "stdout",
     "output_type": "stream",
     "text": [
      "Optimization terminated successfully.\n",
      "         Current function value: 0.549257\n",
      "         Iterations 6\n",
      "intercept = -1.634\n",
      "Beta Coefficient = 0.050\n"
     ]
    }
   ],
   "source": [
    "formula = 'hyperten ~ age'\n",
    "log_model = smf.logit(formula=formula, data=data)\n",
    "log_results = log_model.fit()\n",
    "\n",
    "print \"intercept = %.3f\" % log_results.params['Intercept']\n",
    "print \"Beta Coefficient = %.3f\" % log_results.params['age']"
   ]
  },
  {
   "cell_type": "code",
   "execution_count": 9,
   "metadata": {
    "collapsed": false
   },
   "outputs": [
    {
     "name": "stdout",
     "output_type": "stream",
     "text": [
      "Odds ratio = 1.052\n"
     ]
    }
   ],
   "source": [
    "print \"Odds ratio = %.3f\" % np.exp(log_results.params['age'])"
   ]
  },
  {
   "cell_type": "markdown",
   "metadata": {},
   "source": [
    "#### Model Coefficients\n",
    "  * β<sub>0</sub> (intercept) = -1.634\n",
    "  * β<sub>1</sub> (slope) = 0.05\n",
    "    * e<sup>β<sub>1</sub></sup> (odds ratio) = 1.052  \n",
    "\n",
    "The test-statistic (β<sub>1</sub>) is 0.05. Thus, for every one unit change in `age`, `log o` (*response*) changes by 0.05.\n",
    "\n",
    "The odds that an individual will have the onset of hypertension compared to an individual without the disease is 1.052 to 1 (1.052:1).\n",
    "\n",
    "From the logistic regression the model, the equation to predict the odds of `hyperten` using the predictor variable `age` is:  \n",
    "\n",
    "`log o = 0.05 x - 1.634`\n",
    "\n",
    "#### p-value"
   ]
  },
  {
   "cell_type": "code",
   "execution_count": 10,
   "metadata": {
    "collapsed": false
   },
   "outputs": [
    {
     "data": {
      "text/plain": [
       "2.8841963691930888e-98"
      ]
     },
     "execution_count": 10,
     "metadata": {},
     "output_type": "execute_result"
    }
   ],
   "source": [
    "log_results.pvalues['age']"
   ]
  },
  {
   "cell_type": "markdown",
   "metadata": {},
   "source": [
    "#### 95% Confidence Interval"
   ]
  },
  {
   "cell_type": "code",
   "execution_count": 11,
   "metadata": {
    "collapsed": false
   },
   "outputs": [
    {
     "name": "stdout",
     "output_type": "stream",
     "text": [
      "95% CI =  [0.045550968281770389, 0.054909750952097734]\n"
     ]
    }
   ],
   "source": [
    "print \"95% CI = \", list(log_results.conf_int().loc['age'])"
   ]
  },
  {
   "cell_type": "markdown",
   "metadata": {},
   "source": [
    "#### Summary Statistics"
   ]
  },
  {
   "cell_type": "code",
   "execution_count": 12,
   "metadata": {
    "collapsed": false
   },
   "outputs": [
    {
     "data": {
      "text/html": [
       "<table class=\"simpletable\">\n",
       "<caption>Logit Regression Results</caption>\n",
       "<tr>\n",
       "  <th>Dep. Variable:</th>     <td>hyperten</td>     <th>  No. Observations:  </th>   <td> 11627</td>  \n",
       "</tr>\n",
       "<tr>\n",
       "  <th>Model:</th>               <td>Logit</td>      <th>  Df Residuals:      </th>   <td> 11625</td>  \n",
       "</tr>\n",
       "<tr>\n",
       "  <th>Method:</th>               <td>MLE</td>       <th>  Df Model:          </th>   <td>     1</td>  \n",
       "</tr>\n",
       "<tr>\n",
       "  <th>Date:</th>          <td>Thu, 16 Mar 2017</td> <th>  Pseudo R-squ.:     </th>   <td>0.03573</td> \n",
       "</tr>\n",
       "<tr>\n",
       "  <th>Time:</th>              <td>20:13:40</td>     <th>  Log-Likelihood:    </th>  <td> -6386.2</td> \n",
       "</tr>\n",
       "<tr>\n",
       "  <th>converged:</th>           <td>True</td>       <th>  LL-Null:           </th>  <td> -6622.8</td> \n",
       "</tr>\n",
       "<tr>\n",
       "  <th> </th>                      <td> </td>        <th>  LLR p-value:       </th> <td>6.249e-105</td>\n",
       "</tr>\n",
       "</table>\n",
       "<table class=\"simpletable\">\n",
       "<tr>\n",
       "      <td></td>         <th>coef</th>     <th>std err</th>      <th>z</th>      <th>P>|z|</th> <th>[95.0% Conf. Int.]</th> \n",
       "</tr>\n",
       "<tr>\n",
       "  <th>Intercept</th> <td>   -1.6342</td> <td>    0.128</td> <td>  -12.812</td> <td> 0.000</td> <td>   -1.884    -1.384</td>\n",
       "</tr>\n",
       "<tr>\n",
       "  <th>age</th>       <td>    0.0502</td> <td>    0.002</td> <td>   21.039</td> <td> 0.000</td> <td>    0.046     0.055</td>\n",
       "</tr>\n",
       "</table>"
      ],
      "text/plain": [
       "<class 'statsmodels.iolib.summary.Summary'>\n",
       "\"\"\"\n",
       "                           Logit Regression Results                           \n",
       "==============================================================================\n",
       "Dep. Variable:               hyperten   No. Observations:                11627\n",
       "Model:                          Logit   Df Residuals:                    11625\n",
       "Method:                           MLE   Df Model:                            1\n",
       "Date:                Thu, 16 Mar 2017   Pseudo R-squ.:                 0.03573\n",
       "Time:                        20:13:40   Log-Likelihood:                -6386.2\n",
       "converged:                       True   LL-Null:                       -6622.8\n",
       "                                        LLR p-value:                6.249e-105\n",
       "==============================================================================\n",
       "                 coef    std err          z      P>|z|      [95.0% Conf. Int.]\n",
       "------------------------------------------------------------------------------\n",
       "Intercept     -1.6342      0.128    -12.812      0.000        -1.884    -1.384\n",
       "age            0.0502      0.002     21.039      0.000         0.046     0.055\n",
       "==============================================================================\n",
       "\"\"\""
      ]
     },
     "execution_count": 12,
     "metadata": {},
     "output_type": "execute_result"
    }
   ],
   "source": [
    "log_results.summary()"
   ]
  },
  {
   "cell_type": "markdown",
   "metadata": {},
   "source": [
    "3) Results\n",
    "  * **β<sub>age</sub>** = 0.05\n",
    "  * **p-value** = 0  \n",
    "  \n",
    "The **p-value** is extremely small (p-val < 0.05), providing substantial evidence against  the null hypothesis. Additionally, the **confidence interval** does not contains a slope (β<sub>age</sub>) of 0. \n",
    "\n",
    "The null hypothesis (H<sub>0</sub>) is rejected, in favor of the alternative hypothesis (H<sub>A</sub>). Hence, proving that there's a significant association between `age` and the onset of hypertension (`hyperten`).\n",
    "\n",
    "##### Conclusion\n",
    "There is a significant effect of `age` on the onset of hypertension. For each one unit increase in `age`, `log o` changes by 0.05 (**β<sub>age</sub>**).\n",
    "\n",
    "The odds that an individual will have the onset of hypertension compared to an individual without the disease is 1.052 to 1.\n",
    "\n",
    "Also, the positive **β<sub>age</sub>** suggests that older patients are more likely to have the onset of hypertension."
   ]
  },
  {
   "cell_type": "markdown",
   "metadata": {},
   "source": [
    "## Model's Accuracy\n",
    "The model's metric is measured by its accuracy, which is the number of successful predicitons compared to what would be expected by chance.\n",
    "\n",
    "#### Baseline Prediction Strategy\n",
    "Baseline strategy is to guess positive/true or the binary value of **`1`** everytime. The accuracy of this strategy is simply the *fraction of hypertensive patients*.\n",
    "\n",
    "The exogenous (*predictor*) variables and endogenous (*reponse*) variables must be extracted. They are attributes of the `smf-logit` class."
   ]
  },
  {
   "cell_type": "code",
   "execution_count": 19,
   "metadata": {
    "collapsed": false
   },
   "outputs": [
    {
     "name": "stdout",
     "output_type": "stream",
     "text": [
      "   Intercept   age\n",
      "0        1.0  39.0\n",
      "1        1.0  52.0\n",
      "2        1.0  46.0\n",
      "3        1.0  52.0\n",
      "4        1.0  58.0\n",
      "\n",
      "   hyperten\n",
      "0       0.0\n",
      "1       0.0\n",
      "2       0.0\n",
      "3       0.0\n",
      "4       0.0\n"
     ]
    }
   ],
   "source": [
    "endog = pd.DataFrame(log_model.endog, \n",
    "                     columns = [log_model.endog_names])\n",
    "exog = pd.DataFrame(log_model.exog, \n",
    "                    columns = [log_model.exog_names])\n",
    "print exog.head()\n",
    "print\n",
    "print endog.head()"
   ]
  },
  {
   "cell_type": "code",
   "execution_count": 22,
   "metadata": {
    "collapsed": false
   },
   "outputs": [
    {
     "data": {
      "text/plain": [
       "0.74326997505805448"
      ]
     },
     "execution_count": 22,
     "metadata": {},
     "output_type": "execute_result"
    }
   ],
   "source": [
    "actual = endog['hyperten']\n",
    "baseline = actual.mean()\n",
    "baseline"
   ]
  },
  {
   "cell_type": "markdown",
   "metadata": {},
   "source": [
    "##### Conclusion\n",
    "The mean fraction of hypertensive patients is 0.74. Thus, it's predicted that the model is correct 74%of the time with this *guess*."
   ]
  },
  {
   "cell_type": "markdown",
   "metadata": {},
   "source": [
    "#### Model Accuracy Strategy\n",
    "Use the logistic regression model to compute the number of predictions that are correct."
   ]
  },
  {
   "cell_type": "code",
   "execution_count": 38,
   "metadata": {
    "collapsed": false
   },
   "outputs": [],
   "source": [
    "predict = log_results.predict() >= 0.5\n",
    "true_pos = predict * actual # true positives\n",
    "true_neg = (1-predict) * (1-actual) # true negatives"
   ]
  },
  {
   "cell_type": "markdown",
   "metadata": {},
   "source": [
    "`log_results.predict()` returns a NumPy array of probabilities, which are rounded off to **`0`** or **`1`**. \n",
    "\n",
    "Multiplying by `actual` yields **`1`** if we predict a *hypertension* and get it right, **`0`** otherwise.\n",
    "\n",
    "**Accuracy** is the fraction of correct guesses  \n",
    "  * *True Positive*: actual correct predictions of `hypertension` (**`1`**)\n",
    "  * *True Negative*: actual correct predictions of no hypertension (**`0`**)  \n",
    "`acc = (sum(true_pos) + sum(true_neg)) / len(actual)`"
   ]
  },
  {
   "cell_type": "code",
   "execution_count": 39,
   "metadata": {
    "collapsed": false
   },
   "outputs": [
    {
     "data": {
      "text/plain": [
       "0.7433559817665778"
      ]
     },
     "execution_count": 39,
     "metadata": {},
     "output_type": "execute_result"
    }
   ],
   "source": [
    "acc = (np.sum(true_pos) + np.sum(true_neg)) / len(actual)\n",
    "acc"
   ]
  },
  {
   "cell_type": "markdown",
   "metadata": {},
   "source": [
    "##### Conclusion\n",
    "The accuracy of the logistic regression is 74.3%."
   ]
  }
 ],
 "metadata": {
  "kernelspec": {
   "display_name": "Python 2",
   "language": "python",
   "name": "python2"
  },
  "language_info": {
   "codemirror_mode": {
    "name": "ipython",
    "version": 2
   },
   "file_extension": ".py",
   "mimetype": "text/x-python",
   "name": "python",
   "nbconvert_exporter": "python",
   "pygments_lexer": "ipython2",
   "version": "2.7.11"
  }
 },
 "nbformat": 4,
 "nbformat_minor": 2
}
