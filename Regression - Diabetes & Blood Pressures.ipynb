{
 "cells": [
  {
   "cell_type": "markdown",
   "metadata": {},
   "source": [
    "# Linear Regression: Diabetes & Blood Pressures"
   ]
  },
  {
   "cell_type": "code",
   "execution_count": 1,
   "metadata": {
    "collapsed": true
   },
   "outputs": [],
   "source": [
    "from data.create_data import *\n",
    "import numpy as np\n",
    "import pandas as pd\n",
    "import scipy\n",
    "import scipy.stats as stats\n",
    "import matplotlib.pyplot as plt\n",
    "import matplotlib\n",
    "import statsmodels.formula.api as smf\n",
    "\n",
    "%matplotlib inline"
   ]
  },
  {
   "cell_type": "code",
   "execution_count": 2,
   "metadata": {
    "collapsed": true
   },
   "outputs": [],
   "source": [
    "data = read_frmgham()\n",
    "clean_data = data.dropna(subset=['diabetes', 'sysbp', 'diabp'])\n",
    "diabetes = clean_data.diabetes\n",
    "sysbp = clean_data.sysbp\n",
    "diabp = clean_data.diabp"
   ]
  },
  {
   "cell_type": "markdown",
   "metadata": {},
   "source": [
    "### Research Question\n",
    "  1. Is there a significant association in being diabetic and blood pressures?\n",
    "  \n",
    "#### Diabetic\n",
    "A patient is diabetic if they have a casual serum glucose level of > 200 mg/dL. \n",
    "\n",
    "The feature `diabetes` is a dichotomous/binary predictor, representing whether the patient is diabetic (**`1`**) or not (**`0`**)."
   ]
  },
  {
   "cell_type": "markdown",
   "metadata": {},
   "source": [
    "# Simple Linear Regression (*with Categorical Predictors*)\n",
    "\n",
    "Create a linear model to predict the quantitative response of `sysbp` as well as `diabp` using the predictor/feature `cigpday`.  \n",
    "**`y = β`<sub>0</sub> + `β`<sub>1</sub>`x`<sub>1</sub>**\n",
    "\n",
    "#### Method: Ordinary Least Squares (Linear Least Squares Fit)\n",
    "Identify a linear regression model that minimizes the sum of squares of the residuals. In otherwords, find the least squares fit."
   ]
  },
  {
   "cell_type": "markdown",
   "metadata": {},
   "source": [
    "## Hypothesis Tests\n",
    "\n",
    "### Response: Systolic Blood Pressure\n",
    "Identify if there's a linear relationship between `diabetes` and `sysbp`. If so, is the apparent slope due to chance?\n",
    "\n",
    "#### Variables:\n",
    "  * Explanatory/Independent Variable (Feature): **`diabetes`** (*binary*)\n",
    "     * **`1`**: diabetic\n",
    "     * **`0`**: non-diabetic\n",
    "  * Dependent Variable (Response): **`sysbp`** \n",
    "\n",
    "1) Hypothesis\n",
    "  * **H<sub>0</sub>**: There is no significant relationship between being diabetic and systolic blood pressure (β<sub>1</sub>=0).\n",
    "  * **H<sub>A</sub>**: There is a significant relationship between between being diabetic and systolic blood pressure (β<sub>1</sub> ≠ 0).\n",
    "  \n",
    "2) Statistical Test\n",
    "Compute the test statistic & p-value\n",
    "  * test statistic: **slope**(β<sub>1</sub> = β<sub>diabetes</sub>)"
   ]
  },
  {
   "cell_type": "code",
   "execution_count": 3,
   "metadata": {
    "collapsed": false
   },
   "outputs": [
    {
     "name": "stdout",
     "output_type": "stream",
     "text": [
      "intercept = 135.603\n",
      "slope = 15.814\n"
     ]
    }
   ],
   "source": [
    "model = smf.ols(formula=\"sysbp ~ C(diabetes)\", data=clean_data)\n",
    "results = model.fit()\n",
    "\n",
    "inter = results.params['Intercept']\n",
    "slope = results.params[1]\n",
    "print \"intercept = %.3f\" % inter\n",
    "print \"slope = %.3f\" % slope"
   ]
  },
  {
   "cell_type": "markdown",
   "metadata": {},
   "source": [
    "#### Model Coefficients\n",
    "  * β<sub>0</sub> (intercept) = 135.6\n",
    "  * β<sub>1</sub> (slope) = 15.814\n",
    "\n",
    "The test-statistic (slope) is 15.814. The slope coefficient when used for categorical predictors is the *difference in the response between `0` and `1`.\n",
    "\n",
    "From the linear regression the model, the equation to predict `sysbp` using the predictor variable `diabetes` is:  \n",
    "\n",
    "`y = 15.8 x + 137.9`\n",
    "\n",
    "#### p-value"
   ]
  },
  {
   "cell_type": "code",
   "execution_count": 4,
   "metadata": {
    "collapsed": false
   },
   "outputs": [
    {
     "data": {
      "text/plain": [
       "2.0135367951627243e-55"
      ]
     },
     "execution_count": 4,
     "metadata": {},
     "output_type": "execute_result"
    }
   ],
   "source": [
    "pval = results.pvalues[1]\n",
    "pval"
   ]
  },
  {
   "cell_type": "markdown",
   "metadata": {},
   "source": [
    "#### 95% Confidence Interval"
   ]
  },
  {
   "cell_type": "code",
   "execution_count": 5,
   "metadata": {
    "collapsed": false
   },
   "outputs": [
    {
     "data": {
      "text/plain": [
       "[13.847545107562567, 17.779874847856526]"
      ]
     },
     "execution_count": 5,
     "metadata": {},
     "output_type": "execute_result"
    }
   ],
   "source": [
    "list(results.conf_int().iloc[1,:])"
   ]
  },
  {
   "cell_type": "markdown",
   "metadata": {},
   "source": [
    "#### Summary Statistics"
   ]
  },
  {
   "cell_type": "code",
   "execution_count": 6,
   "metadata": {
    "collapsed": false
   },
   "outputs": [
    {
     "data": {
      "text/html": [
       "<table class=\"simpletable\">\n",
       "<caption>OLS Regression Results</caption>\n",
       "<tr>\n",
       "  <th>Dep. Variable:</th>          <td>sysbp</td>      <th>  R-squared:         </th> <td>   0.021</td> \n",
       "</tr>\n",
       "<tr>\n",
       "  <th>Model:</th>                   <td>OLS</td>       <th>  Adj. R-squared:    </th> <td>   0.021</td> \n",
       "</tr>\n",
       "<tr>\n",
       "  <th>Method:</th>             <td>Least Squares</td>  <th>  F-statistic:       </th> <td>   248.6</td> \n",
       "</tr>\n",
       "<tr>\n",
       "  <th>Date:</th>             <td>Thu, 16 Mar 2017</td> <th>  Prob (F-statistic):</th> <td>2.01e-55</td> \n",
       "</tr>\n",
       "<tr>\n",
       "  <th>Time:</th>                 <td>18:20:47</td>     <th>  Log-Likelihood:    </th> <td> -52729.</td> \n",
       "</tr>\n",
       "<tr>\n",
       "  <th>No. Observations:</th>      <td> 11627</td>      <th>  AIC:               </th> <td>1.055e+05</td>\n",
       "</tr>\n",
       "<tr>\n",
       "  <th>Df Residuals:</th>          <td> 11625</td>      <th>  BIC:               </th> <td>1.055e+05</td>\n",
       "</tr>\n",
       "<tr>\n",
       "  <th>Df Model:</th>              <td>     1</td>      <th>                     </th>     <td> </td>    \n",
       "</tr>\n",
       "<tr>\n",
       "  <th>Covariance Type:</th>      <td>nonrobust</td>    <th>                     </th>     <td> </td>    \n",
       "</tr>\n",
       "</table>\n",
       "<table class=\"simpletable\">\n",
       "<tr>\n",
       "          <td></td>            <th>coef</th>     <th>std err</th>      <th>t</th>      <th>P>|t|</th> <th>[95.0% Conf. Int.]</th> \n",
       "</tr>\n",
       "<tr>\n",
       "  <th>Intercept</th>        <td>  135.6033</td> <td>    0.214</td> <td>  633.198</td> <td> 0.000</td> <td>  135.183   136.023</td>\n",
       "</tr>\n",
       "<tr>\n",
       "  <th>C(diabetes)[T.1]</th> <td>   15.8137</td> <td>    1.003</td> <td>   15.765</td> <td> 0.000</td> <td>   13.848    17.780</td>\n",
       "</tr>\n",
       "</table>\n",
       "<table class=\"simpletable\">\n",
       "<tr>\n",
       "  <th>Omnibus:</th>       <td>1528.673</td> <th>  Durbin-Watson:     </th> <td>   1.214</td>\n",
       "</tr>\n",
       "<tr>\n",
       "  <th>Prob(Omnibus):</th>  <td> 0.000</td>  <th>  Jarque-Bera (JB):  </th> <td>2481.226</td>\n",
       "</tr>\n",
       "<tr>\n",
       "  <th>Skew:</th>           <td> 0.910</td>  <th>  Prob(JB):          </th> <td>    0.00</td>\n",
       "</tr>\n",
       "<tr>\n",
       "  <th>Kurtosis:</th>       <td> 4.345</td>  <th>  Cond. No.          </th> <td>    4.80</td>\n",
       "</tr>\n",
       "</table>"
      ],
      "text/plain": [
       "<class 'statsmodels.iolib.summary.Summary'>\n",
       "\"\"\"\n",
       "                            OLS Regression Results                            \n",
       "==============================================================================\n",
       "Dep. Variable:                  sysbp   R-squared:                       0.021\n",
       "Model:                            OLS   Adj. R-squared:                  0.021\n",
       "Method:                 Least Squares   F-statistic:                     248.6\n",
       "Date:                Thu, 16 Mar 2017   Prob (F-statistic):           2.01e-55\n",
       "Time:                        18:20:47   Log-Likelihood:                -52729.\n",
       "No. Observations:               11627   AIC:                         1.055e+05\n",
       "Df Residuals:                   11625   BIC:                         1.055e+05\n",
       "Df Model:                           1                                         \n",
       "Covariance Type:            nonrobust                                         \n",
       "====================================================================================\n",
       "                       coef    std err          t      P>|t|      [95.0% Conf. Int.]\n",
       "------------------------------------------------------------------------------------\n",
       "Intercept          135.6033      0.214    633.198      0.000       135.183   136.023\n",
       "C(diabetes)[T.1]    15.8137      1.003     15.765      0.000        13.848    17.780\n",
       "==============================================================================\n",
       "Omnibus:                     1528.673   Durbin-Watson:                   1.214\n",
       "Prob(Omnibus):                  0.000   Jarque-Bera (JB):             2481.226\n",
       "Skew:                           0.910   Prob(JB):                         0.00\n",
       "Kurtosis:                       4.345   Cond. No.                         4.80\n",
       "==============================================================================\n",
       "\n",
       "Warnings:\n",
       "[1] Standard Errors assume that the covariance matrix of the errors is correctly specified.\n",
       "\"\"\""
      ]
     },
     "execution_count": 6,
     "metadata": {},
     "output_type": "execute_result"
    }
   ],
   "source": [
    "results.summary()"
   ]
  },
  {
   "cell_type": "markdown",
   "metadata": {},
   "source": [
    "3) Results\n",
    "#### Decide to Accept or Reject the null H<sub>0</sub>\n",
    "Since the p-value < 0.05 and the confidence interval does not include 0, we reject the null hypothesis in favor of the alternative. There is substantial evidence against the null hypothesis.\n",
    "\n",
    "#### Conclusion\n",
    "Based on our sample, there is a statistically significant association between being diabetic and an individual's systolic blood pressure.\n",
    "\n",
    "The estimated difference between *diabetics* and *non-diabetics* is 15.81 mmHg (β<sub>1</sub>).\n",
    "  * Being a patient with diabetes (**`1`**) is associated with an average *increase* of β<sub>1</sub>.\n",
    "  * Being a non-diabetic patient (**`0`**) is associated with an average *decrease* of β<sub>1</sub>."
   ]
  },
  {
   "cell_type": "markdown",
   "metadata": {},
   "source": [
    "### Goodness of Fit\n",
    "Determine how well does the model fit the data.\n",
    "\n",
    "#### RMSE\n",
    "The root mean squared error is the standard deviation of the residuals. It is used to quantify the strength of relationship between `diabetes` and `sysbp`.\n",
    "\n",
    "It measures the absolute fit of the model to the data (how close to the observed data points are to the model's predicted values)."
   ]
  },
  {
   "cell_type": "code",
   "execution_count": 7,
   "metadata": {
    "collapsed": false
   },
   "outputs": [
    {
     "name": "stdout",
     "output_type": "stream",
     "text": [
      "RMSE of sysbp (residual) = 22.559 mmHg\n"
     ]
    }
   ],
   "source": [
    "rmse = results.resid.std()\n",
    "print \"RMSE of sysbp (residual) = %.3f mmHg\" % rmse"
   ]
  },
  {
   "cell_type": "code",
   "execution_count": 8,
   "metadata": {
    "collapsed": false
   },
   "outputs": [
    {
     "name": "stdout",
     "output_type": "stream",
     "text": [
      "RMSE of sysbp (y) = 22.799 mmHg\n"
     ]
    }
   ],
   "source": [
    "rmse2 = clean_data['sysbp'].std()\n",
    "print \"RMSE of sysbp (y) = %.3f mmHg\" % rmse2"
   ]
  },
  {
   "cell_type": "code",
   "execution_count": 9,
   "metadata": {
    "collapsed": false
   },
   "outputs": [
    {
     "name": "stdout",
     "output_type": "stream",
     "text": [
      "[83.500000, 295.000000]\n"
     ]
    }
   ],
   "source": [
    "print \"[%3f, %3f]\" % (sysbp.min(), sysbp.max())"
   ]
  },
  {
   "cell_type": "markdown",
   "metadata": {},
   "source": [
    "##### Conclusion\n",
    "The RMSE of the model is approximately 22.6 mmHg. It's relatively small in comparison to the range of the dependent variable. Hence, the low the RMSE value suggests a good fit.\n",
    "\n",
    "Comparing the standard deviation of residuals and systolic blood pressure (ys), it appears knowing if the patient is diabetic does not drastically improve the model's prediction.\n",
    "  * Difference of only .24 mmHg"
   ]
  },
  {
   "cell_type": "markdown",
   "metadata": {},
   "source": [
    "#### Coefficient of Determination (R<sup>2</sup>)\n",
    "The coefficient of determination quantifies the goodness of fit of the linear model to the data, demonstrating the model's predictive power.\n",
    "\n",
    "The range of the value is [0, 1]."
   ]
  },
  {
   "cell_type": "code",
   "execution_count": 10,
   "metadata": {
    "collapsed": false
   },
   "outputs": [
    {
     "data": {
      "text/plain": [
       "0.020933107325236788"
      ]
     },
     "execution_count": 10,
     "metadata": {},
     "output_type": "execute_result"
    }
   ],
   "source": [
    "results.rsquared"
   ]
  },
  {
   "cell_type": "markdown",
   "metadata": {},
   "source": [
    "##### Conclusion\n",
    "The R<sup>2</sup> value is 0.021, which indicates that the model, given  the information of whether the patient is diabetic, only predicts about 1.1% of variance in systolic blood pressure. \n",
    "\n",
    "The small value suggests that the proposed linear regression model does not improve prediction and has low predictive power. "
   ]
  },
  {
   "cell_type": "markdown",
   "metadata": {},
   "source": [
    "### Response: Diastolic Blood Pressure\n",
    "Identify if there's a linear relationship between `diabetes` and `diabp`. If so, is the apparent slope due to chance?\n",
    "\n",
    "#### Variables:\n",
    "  * Explanatory/Independent Variable (Feature): **`diabetes`** (*binary*)\n",
    "     * **`1`**: diabetic\n",
    "     * **`0`**: non-diabetic\n",
    "  * Dependent Variable (Response): **`diabp`** \n",
    "\n",
    "1) Hypothesis\n",
    "  * **H<sub>0</sub>**: There is no significant relationship between being diabetic and diastolic blood pressure (β<sub>1</sub>=0).\n",
    "  * **H<sub>A</sub>**: There is a significant relationship between between being diabetic and diastolic blood pressure (β<sub>1</sub> ≠ 0).\n",
    "  \n",
    "2) Statistical Test\n",
    "Compute the test statistic & p-value\n",
    "  * test statistic: **slope**(β<sub>1</sub> = β<sub>diabetes</sub>)"
   ]
  },
  {
   "cell_type": "code",
   "execution_count": 11,
   "metadata": {
    "collapsed": false
   },
   "outputs": [
    {
     "name": "stdout",
     "output_type": "stream",
     "text": [
      "intercept = 82.957\n",
      "slope = 1.778\n"
     ]
    }
   ],
   "source": [
    "model_dia = smf.ols(formula=\"diabp ~ C(diabetes)\", data=clean_data)\n",
    "results_dia = model_dia.fit()\n",
    "\n",
    "inter_dia = results_dia.params['Intercept']\n",
    "slope_dia = results_dia.params[1]\n",
    "print \"intercept = %.3f\" % inter_dia\n",
    "print \"slope = %.3f\" % slope_dia"
   ]
  },
  {
   "cell_type": "markdown",
   "metadata": {},
   "source": [
    "#### Model Coefficients\n",
    "  * β<sub>0</sub> (intercept) = 82.96\n",
    "  * β<sub>1</sub> = 1.78\n",
    "\n",
    "The test-statistic (β<sub>1</sub>) is 1.78. The slope coefficient when used for categorical predictors is the *difference in the response between `0` and `1`.\n",
    "\n",
    "From the linear regression the model, the equation to predict `sysbp` using the predictor variable `diabetes` is:  \n",
    "\n",
    "`y = 1.78 x + 82.96`\n",
    "\n",
    "#### p-value"
   ]
  },
  {
   "cell_type": "code",
   "execution_count": 12,
   "metadata": {
    "collapsed": false
   },
   "outputs": [
    {
     "data": {
      "text/plain": [
       "0.00060230467592501833"
      ]
     },
     "execution_count": 12,
     "metadata": {},
     "output_type": "execute_result"
    }
   ],
   "source": [
    "pval = results_dia.pvalues[1]\n",
    "pval"
   ]
  },
  {
   "cell_type": "markdown",
   "metadata": {},
   "source": [
    "#### 95% Confidence Interval"
   ]
  },
  {
   "cell_type": "code",
   "execution_count": 13,
   "metadata": {
    "collapsed": false
   },
   "outputs": [
    {
     "data": {
      "text/plain": [
       "[0.76245016001020582, 2.7939611427216327]"
      ]
     },
     "execution_count": 13,
     "metadata": {},
     "output_type": "execute_result"
    }
   ],
   "source": [
    "list(results_dia.conf_int().iloc[1,:])"
   ]
  },
  {
   "cell_type": "markdown",
   "metadata": {},
   "source": [
    "#### Summary Statistics"
   ]
  },
  {
   "cell_type": "code",
   "execution_count": 14,
   "metadata": {
    "collapsed": false
   },
   "outputs": [
    {
     "data": {
      "text/html": [
       "<table class=\"simpletable\">\n",
       "<caption>OLS Regression Results</caption>\n",
       "<tr>\n",
       "  <th>Dep. Variable:</th>          <td>diabp</td>      <th>  R-squared:         </th> <td>   0.001</td> \n",
       "</tr>\n",
       "<tr>\n",
       "  <th>Model:</th>                   <td>OLS</td>       <th>  Adj. R-squared:    </th> <td>   0.001</td> \n",
       "</tr>\n",
       "<tr>\n",
       "  <th>Method:</th>             <td>Least Squares</td>  <th>  F-statistic:       </th> <td>   11.78</td> \n",
       "</tr>\n",
       "<tr>\n",
       "  <th>Date:</th>             <td>Thu, 16 Mar 2017</td> <th>  Prob (F-statistic):</th> <td>0.000602</td> \n",
       "</tr>\n",
       "<tr>\n",
       "  <th>Time:</th>                 <td>18:20:47</td>     <th>  Log-Likelihood:    </th> <td> -45050.</td> \n",
       "</tr>\n",
       "<tr>\n",
       "  <th>No. Observations:</th>      <td> 11627</td>      <th>  AIC:               </th> <td>9.010e+04</td>\n",
       "</tr>\n",
       "<tr>\n",
       "  <th>Df Residuals:</th>          <td> 11625</td>      <th>  BIC:               </th> <td>9.012e+04</td>\n",
       "</tr>\n",
       "<tr>\n",
       "  <th>Df Model:</th>              <td>     1</td>      <th>                     </th>     <td> </td>    \n",
       "</tr>\n",
       "<tr>\n",
       "  <th>Covariance Type:</th>      <td>nonrobust</td>    <th>                     </th>     <td> </td>    \n",
       "</tr>\n",
       "</table>\n",
       "<table class=\"simpletable\">\n",
       "<tr>\n",
       "          <td></td>            <th>coef</th>     <th>std err</th>      <th>t</th>      <th>P>|t|</th> <th>[95.0% Conf. Int.]</th> \n",
       "</tr>\n",
       "<tr>\n",
       "  <th>Intercept</th>        <td>   82.9567</td> <td>    0.111</td> <td>  749.810</td> <td> 0.000</td> <td>   82.740    83.174</td>\n",
       "</tr>\n",
       "<tr>\n",
       "  <th>C(diabetes)[T.1]</th> <td>    1.7782</td> <td>    0.518</td> <td>    3.432</td> <td> 0.001</td> <td>    0.762     2.794</td>\n",
       "</tr>\n",
       "</table>\n",
       "<table class=\"simpletable\">\n",
       "<tr>\n",
       "  <th>Omnibus:</th>       <td>701.505</td> <th>  Durbin-Watson:     </th> <td>   1.290</td> \n",
       "</tr>\n",
       "<tr>\n",
       "  <th>Prob(Omnibus):</th> <td> 0.000</td>  <th>  Jarque-Bera (JB):  </th> <td> 967.773</td> \n",
       "</tr>\n",
       "<tr>\n",
       "  <th>Skew:</th>          <td> 0.545</td>  <th>  Prob(JB):          </th> <td>7.09e-211</td>\n",
       "</tr>\n",
       "<tr>\n",
       "  <th>Kurtosis:</th>      <td> 3.900</td>  <th>  Cond. No.          </th> <td>    4.80</td> \n",
       "</tr>\n",
       "</table>"
      ],
      "text/plain": [
       "<class 'statsmodels.iolib.summary.Summary'>\n",
       "\"\"\"\n",
       "                            OLS Regression Results                            \n",
       "==============================================================================\n",
       "Dep. Variable:                  diabp   R-squared:                       0.001\n",
       "Model:                            OLS   Adj. R-squared:                  0.001\n",
       "Method:                 Least Squares   F-statistic:                     11.78\n",
       "Date:                Thu, 16 Mar 2017   Prob (F-statistic):           0.000602\n",
       "Time:                        18:20:47   Log-Likelihood:                -45050.\n",
       "No. Observations:               11627   AIC:                         9.010e+04\n",
       "Df Residuals:                   11625   BIC:                         9.012e+04\n",
       "Df Model:                           1                                         \n",
       "Covariance Type:            nonrobust                                         \n",
       "====================================================================================\n",
       "                       coef    std err          t      P>|t|      [95.0% Conf. Int.]\n",
       "------------------------------------------------------------------------------------\n",
       "Intercept           82.9567      0.111    749.810      0.000        82.740    83.174\n",
       "C(diabetes)[T.1]     1.7782      0.518      3.432      0.001         0.762     2.794\n",
       "==============================================================================\n",
       "Omnibus:                      701.505   Durbin-Watson:                   1.290\n",
       "Prob(Omnibus):                  0.000   Jarque-Bera (JB):              967.773\n",
       "Skew:                           0.545   Prob(JB):                    7.09e-211\n",
       "Kurtosis:                       3.900   Cond. No.                         4.80\n",
       "==============================================================================\n",
       "\n",
       "Warnings:\n",
       "[1] Standard Errors assume that the covariance matrix of the errors is correctly specified.\n",
       "\"\"\""
      ]
     },
     "execution_count": 14,
     "metadata": {},
     "output_type": "execute_result"
    }
   ],
   "source": [
    "results_dia.summary()"
   ]
  },
  {
   "cell_type": "markdown",
   "metadata": {},
   "source": [
    "3) Results\n",
    "#### Decide to Accept or Reject the null H<sub>0</sub>\n",
    "Since the p-value < 0.05 and the confidence interval does not include 0, we reject the null hypothesis in favor of the alternative. There is substantial evidence against the null hypothesis.\n",
    "\n",
    "#### Conclusion\n",
    "Based on our sample, there is a statistically significant association between being diabetic and an individual's diastolic blood pressure.\n",
    "\n",
    "The estimated difference between *diabetics* and *non-diabetics* is 1.78 mmHg (β<sub>1</sub>).\n",
    "  * Being a patient with diabetes (**`1`**) is associated with an average *increase* of β<sub>1</sub>.\n",
    "  * Being a non-diabetic patient (**`0`**) is associated with an average *decrease* of β<sub>1</sub>."
   ]
  },
  {
   "cell_type": "markdown",
   "metadata": {},
   "source": [
    "### Goodness of Fit\n",
    "\n",
    "#### RMSE"
   ]
  },
  {
   "cell_type": "code",
   "execution_count": 15,
   "metadata": {
    "collapsed": false
   },
   "outputs": [
    {
     "name": "stdout",
     "output_type": "stream",
     "text": [
      "RMSE of diabp (residual) = 11.654 mmHg\n",
      "RMSE of diabp (y) = 11.660 mmHg\n",
      "[30.000000, 150.000000]\n"
     ]
    }
   ],
   "source": [
    "rmse = results_dia.resid.std()\n",
    "print \"RMSE of diabp (residual) = %.3f mmHg\" % rmse\n",
    "\n",
    "rmse2 = clean_data['diabp'].std()\n",
    "print \"RMSE of diabp (y) = %.3f mmHg\" % rmse2\n",
    "\n",
    "print \"[%3f, %3f]\" % (diabp.min(), diabp.max())"
   ]
  },
  {
   "cell_type": "markdown",
   "metadata": {},
   "source": [
    "##### Conclusion\n",
    "The RMSE of the model is approximately 11.65 mmHg. It's relatively small in comparison to the range of the dependent variable. Hence, the low the RMSE value suggests a good fit.\n",
    "\n",
    "Comparing the standard deviation of residuals and diastolic blood pressure (ys), it appears knowing if the patient is diabetic does not drastically improve the model's prediction.\n",
    "  * Difference of only .06 mmHg"
   ]
  },
  {
   "cell_type": "markdown",
   "metadata": {},
   "source": [
    "#### Coefficient of Determination (R<sup>2</sup>)"
   ]
  },
  {
   "cell_type": "code",
   "execution_count": 16,
   "metadata": {
    "collapsed": false
   },
   "outputs": [
    {
     "data": {
      "text/plain": [
       "0.001011904640854655"
      ]
     },
     "execution_count": 16,
     "metadata": {},
     "output_type": "execute_result"
    }
   ],
   "source": [
    "results_dia.rsquared"
   ]
  },
  {
   "cell_type": "markdown",
   "metadata": {},
   "source": [
    "##### Conclusion\n",
    "The R<sup>2</sup> value is 0.001. The model, given the information of whether the patient is diabetic, only predicts about 0.1% of variance in diastolic blood pressure. \n",
    "\n",
    "The small value suggests that the proposed linear regression model does not improve prediction and has low predictive power. "
   ]
  }
 ],
 "metadata": {
  "kernelspec": {
   "display_name": "Python 2",
   "language": "python",
   "name": "python2"
  },
  "language_info": {
   "codemirror_mode": {
    "name": "ipython",
    "version": 2
   },
   "file_extension": ".py",
   "mimetype": "text/x-python",
   "name": "python",
   "nbconvert_exporter": "python",
   "pygments_lexer": "ipython2",
   "version": "2.7.11"
  }
 },
 "nbformat": 4,
 "nbformat_minor": 2
}
